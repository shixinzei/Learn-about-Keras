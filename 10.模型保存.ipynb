{
 "cells": [
  {
   "cell_type": "code",
   "execution_count": 1,
   "metadata": {},
   "outputs": [
    {
     "name": "stderr",
     "output_type": "stream",
     "text": [
      "Using TensorFlow backend.\n"
     ]
    }
   ],
   "source": [
    "import numpy as np\n",
    "from keras.datasets import mnist\n",
    "from keras.utils import np_utils\n",
    "from keras.models import Sequential\n",
    "from keras.layers import Dense\n",
    "from keras.optimizers import SGD"
   ]
  },
  {
   "cell_type": "code",
   "execution_count": 2,
   "metadata": {},
   "outputs": [
    {
     "name": "stdout",
     "output_type": "stream",
     "text": [
      "x_shape: (60000, 28, 28)\n",
      "y_shape: (60000,)\n",
      "WARNING:tensorflow:From C:\\ProgramData\\Anaconda3\\envs\\tensorflow36\\lib\\site-packages\\keras\\backend\\tensorflow_backend.py:422: The name tf.global_variables is deprecated. Please use tf.compat.v1.global_variables instead.\n",
      "\n",
      "Epoch 1/5\n",
      "60000/60000 [==============================] - 3s 42us/step - loss: 0.0496 - accuracy: 0.6905\n",
      "Epoch 2/5\n",
      "60000/60000 [==============================] - 2s 38us/step - loss: 0.0256 - accuracy: 0.8596\n",
      "Epoch 3/5\n",
      "60000/60000 [==============================] - 3s 43us/step - loss: 0.0214 - accuracy: 0.8767\n",
      "Epoch 4/5\n",
      "60000/60000 [==============================] - 2s 39us/step - loss: 0.0194 - accuracy: 0.8852\n",
      "Epoch 5/5\n",
      "60000/60000 [==============================] - 3s 48us/step - loss: 0.0182 - accuracy: 0.8910\n",
      "10000/10000 [==============================] - 0s 40us/step\n",
      "\n",
      "test loss 0.01667412794250995\n",
      "accuracy 0.9010999798774719\n"
     ]
    }
   ],
   "source": [
    "# 载入数据\n",
    "(x_train,y_train),(x_test,y_test) = mnist.load_data()\n",
    "# (60000,28,28)\n",
    "print('x_shape:',x_train.shape)\n",
    "# (60000)\n",
    "print('y_shape:',y_train.shape)\n",
    "# (60000,28,28)->(60000,784)\n",
    "x_train = x_train.reshape(x_train.shape[0],-1)/255.0\n",
    "x_test = x_test.reshape(x_test.shape[0],-1)/255.0\n",
    "# 换one hot格式\n",
    "y_train = np_utils.to_categorical(y_train,num_classes=10)\n",
    "y_test = np_utils.to_categorical(y_test,num_classes=10)\n",
    "\n",
    "# 创建模型，输入784个神经元，输出10个神经元\n",
    "model = Sequential([\n",
    "        Dense(units=10,input_dim=784,bias_initializer='one',activation='softmax')\n",
    "    ])\n",
    "\n",
    "# 定义优化器\n",
    "sgd = SGD(lr=0.2)\n",
    "\n",
    "# 定义优化器，loss function，训练过程中计算准确率\n",
    "model.compile(\n",
    "    optimizer = sgd,\n",
    "    loss = 'mse',\n",
    "    metrics=['accuracy'],\n",
    ")\n",
    "\n",
    "# 训练模型\n",
    "model.fit(x_train,y_train,batch_size=64,epochs=5)\n",
    "\n",
    "# 评估模型\n",
    "loss,accuracy = model.evaluate(x_test,y_test)\n",
    "\n",
    "print('\\ntest loss',loss)\n",
    "print('accuracy',accuracy)\n",
    "\n",
    "# 保存模型\n",
    "model.save('model.h5')   # HDF5文件，pip install h5py"
   ]
  },
  {
   "cell_type": "code",
   "execution_count": null,
   "metadata": {
    "collapsed": true
   },
   "outputs": [],
   "source": []
  }
 ],
 "metadata": {
  "anaconda-cloud": {},
  "kernelspec": {
   "display_name": "Python 3",
   "language": "python",
   "name": "python3"
  },
  "language_info": {
   "codemirror_mode": {
    "name": "ipython",
    "version": 3
   },
   "file_extension": ".py",
   "mimetype": "text/x-python",
   "name": "python",
   "nbconvert_exporter": "python",
   "pygments_lexer": "ipython3",
   "version": "3.6.2"
  }
 },
 "nbformat": 4,
 "nbformat_minor": 2
}
