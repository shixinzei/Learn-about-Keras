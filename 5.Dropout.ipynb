{
 "cells": [
  {
   "cell_type": "code",
   "execution_count": 5,
   "metadata": {},
   "outputs": [],
   "source": [
    "import numpy as np\n",
    "from keras.datasets import mnist\n",
    "from keras.utils import np_utils\n",
    "from keras.models import Sequential\n",
    "from keras.layers import Dense,Dropout\n",
    "from keras.optimizers import SGD"
   ]
  },
  {
   "cell_type": "code",
   "execution_count": 6,
   "metadata": {},
   "outputs": [
    {
     "name": "stdout",
     "output_type": "stream",
     "text": [
      "x_shape: (60000, 28, 28)\n",
      "y_shape: (60000,)\n",
      "Epoch 1/10\n",
      "60000/60000 [==============================] - 9s 149us/step - loss: 0.0555 - accuracy: 0.5610\n",
      "Epoch 2/10\n",
      "60000/60000 [==============================] - 9s 153us/step - loss: 0.0226 - accuracy: 0.8499\n",
      "Epoch 3/10\n",
      "60000/60000 [==============================] - 10s 161us/step - loss: 0.0188 - accuracy: 0.8741\n",
      "Epoch 4/10\n",
      "60000/60000 [==============================] - 10s 163us/step - loss: 0.0172 - accuracy: 0.8858\n",
      "Epoch 5/10\n",
      "60000/60000 [==============================] - ETA: 0s - loss: 0.0162 - accuracy: 0.89 - 9s 150us/step - loss: 0.0162 - accuracy: 0.8929\n",
      "Epoch 6/10\n",
      "60000/60000 [==============================] - 9s 155us/step - loss: 0.0156 - accuracy: 0.8964\n",
      "Epoch 7/10\n",
      "60000/60000 [==============================] - 10s 171us/step - loss: 0.0151 - accuracy: 0.8996\n",
      "Epoch 8/10\n",
      "60000/60000 [==============================] - 8s 139us/step - loss: 0.0145 - accuracy: 0.9040\n",
      "Epoch 9/10\n",
      "60000/60000 [==============================] - 7s 119us/step - loss: 0.0141 - accuracy: 0.9076\n",
      "Epoch 10/10\n",
      "60000/60000 [==============================] - 8s 132us/step - loss: 0.0136 - accuracy: 0.9105\n",
      "10000/10000 [==============================] - 1s 68us/step\n",
      "\n",
      "test loss 0.010246155614547024\n",
      "test accuracy 0.9330000281333923\n",
      "60000/60000 [==============================] - 3s 56us/step\n",
      "\n",
      "train loss 0.010397097090129197\n",
      "train accuracy 0.9315666556358337\n"
     ]
    }
   ],
   "source": [
    "# 载入数据\n",
    "(x_train,y_train),(x_test,y_test) = mnist.load_data()\n",
    "\n",
    "# （60000,28,28）\n",
    "print('x_shape:',x_train.shape)\n",
    "# （60000）\n",
    "print('y_shape:',y_train.shape)\n",
    "\n",
    "# （60000,28,，28）->（60000，784）\n",
    "x_train = x_train.reshape(x_train.shape[0],-1)/255.0\n",
    "x_test = x_test.reshape(x_test.shape[0],-1)/255.0\n",
    "\n",
    "# 换one hot格式  独热编码\n",
    "y_train = np_utils.to_categorical(y_train,num_classes=10)\n",
    "y_test = np_utils.to_categorical(y_test,num_classes=10)\n",
    "\n",
    "# 创建模型 \n",
    "model = Sequential([\n",
    "        # 隐藏层1 784-200\n",
    "        Dense(units=200,input_dim=784,bias_initializer='one',activation='tanh'),\n",
    "        \n",
    "        # 针对过拟合：Dropout \n",
    "        Dropout(0.4),\n",
    "    \n",
    "        # 隐藏层2 200-100\n",
    "        Dense(units=100,bias_initializer='one',activation='tanh'),\n",
    "    \n",
    "        # 针对过拟合：Dropout \n",
    "        Dropout(0.4),\n",
    "    \n",
    "        # 输出层 100-10\n",
    "        Dense(units=10,bias_initializer='one',activation='softmax')\n",
    "    ])\n",
    "\n",
    "# 定义优化器\n",
    "sgd = SGD(lr=0.2)\n",
    "\n",
    "# 定义优化器,loss function ,训练过程中计算准确率\n",
    "model.compile(\n",
    "    optimizer = sgd,\n",
    "    loss = 'mse',\n",
    "    metrics=['accuracy']\n",
    ")\n",
    "\n",
    "# 训练模型\n",
    "model.fit(x_train,y_train,batch_size=32,epochs=10)\n",
    "\n",
    "# 评估模型\n",
    "loss,accuracy = model.evaluate(x_test,y_test)\n",
    "print('\\ntest loss',loss)\n",
    "print('test accuracy',accuracy)\n",
    "\n",
    "loss,accuracy = model.evaluate(x_train,y_train)\n",
    "\n",
    "print('\\ntrain loss',loss)\n",
    "print('train accuracy',accuracy)"
   ]
  },
  {
   "cell_type": "code",
   "execution_count": null,
   "metadata": {},
   "outputs": [],
   "source": []
  }
 ],
 "metadata": {
  "kernelspec": {
   "display_name": "Python 3",
   "language": "python",
   "name": "python3"
  },
  "language_info": {
   "codemirror_mode": {
    "name": "ipython",
    "version": 3
   },
   "file_extension": ".py",
   "mimetype": "text/x-python",
   "name": "python",
   "nbconvert_exporter": "python",
   "pygments_lexer": "ipython3",
   "version": "3.6.2"
  }
 },
 "nbformat": 4,
 "nbformat_minor": 2
}
