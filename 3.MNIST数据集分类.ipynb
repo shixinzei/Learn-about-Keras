{
 "cells": [
  {
   "cell_type": "code",
   "execution_count": 2,
   "metadata": {},
   "outputs": [],
   "source": [
    "import numpy as np\n",
    "from keras.datasets import mnist\n",
    "from keras.utils import np_utils\n",
    "from keras.models import Sequential\n",
    "from keras.layers import Dense\n",
    "from keras.optimizers import SGD"
   ]
  },
  {
   "cell_type": "code",
   "execution_count": 6,
   "metadata": {},
   "outputs": [
    {
     "name": "stdout",
     "output_type": "stream",
     "text": [
      "x_shape: (60000, 28, 28)\n",
      "y_shape: (60000,)\n",
      "WARNING:tensorflow:From C:\\ProgramData\\Anaconda3\\envs\\tensorflow36\\lib\\site-packages\\keras\\backend\\tensorflow_backend.py:422: The name tf.global_variables is deprecated. Please use tf.compat.v1.global_variables instead.\n",
      "\n",
      "Epoch 1/10\n",
      "60000/60000 [==============================] - 4s 60us/step - loss: 0.0379 - accuracy: 0.7764\n",
      "Epoch 2/10\n",
      "60000/60000 [==============================] - 4s 66us/step - loss: 0.0203 - accuracy: 0.8803\n",
      "Epoch 3/10\n",
      "60000/60000 [==============================] - 4s 69us/step - loss: 0.0178 - accuracy: 0.8923\n",
      "Epoch 4/10\n",
      "60000/60000 [==============================] - 4s 72us/step - loss: 0.0165 - accuracy: 0.8991\n",
      "Epoch 5/10\n",
      "60000/60000 [==============================] - 3s 55us/step - loss: 0.0157 - accuracy: 0.9032\n",
      "Epoch 6/10\n",
      "60000/60000 [==============================] - 4s 67us/step - loss: 0.0151 - accuracy: 0.9068\n",
      "Epoch 7/10\n",
      "60000/60000 [==============================] - 4s 63us/step - loss: 0.0147 - accuracy: 0.9086\n",
      "Epoch 8/10\n",
      "60000/60000 [==============================] - 4s 64us/step - loss: 0.0143 - accuracy: 0.9105\n",
      "Epoch 9/10\n",
      "60000/60000 [==============================] - 4s 66us/step - loss: 0.0140 - accuracy: 0.9121\n",
      "Epoch 10/10\n",
      "60000/60000 [==============================] - 4s 64us/step - loss: 0.0138 - accuracy: 0.9132\n",
      "10000/10000 [==============================] - 0s 48us/step\n",
      "\n",
      "test loss 0.01304714019545354\n",
      "accuracy 0.9185000061988831\n"
     ]
    }
   ],
   "source": [
    "# 载入数据\n",
    "(x_train,y_train),(x_test,y_test) = mnist.load_data()\n",
    "\n",
    "# （60000,28,28）\n",
    "print('x_shape:',x_train.shape)\n",
    "# （60000）\n",
    "print('y_shape:',y_train.shape)\n",
    "\n",
    "# （60000,28,，28）->（60000，784）\n",
    "x_train = x_train.reshape(x_train.shape[0],-1)/255.0\n",
    "x_test = x_test.reshape(x_test.shape[0],-1)/255.0\n",
    "\n",
    "# 换one hot格式  独热编码\n",
    "y_train = np_utils.to_categorical(y_train,num_classes=10)\n",
    "y_test = np_utils.to_categorical(y_test,num_classes=10)\n",
    "\n",
    "# 创建模型,输入784个神经元,输出10个神经元\n",
    "model = Sequential([\n",
    "        Dense(units=10,input_dim=784,bias_initializer='one',activation='softmax')\n",
    "    ])\n",
    "\n",
    "# 定义优化器\n",
    "sgd = SGD(lr=0.2)\n",
    "\n",
    "# 定义优化器,loss function ,训练过程中计算准确率\n",
    "model.compile(\n",
    "    optimizer = sgd,\n",
    "    loss = 'mse',\n",
    "    metrics=['accuracy']\n",
    ")\n",
    "\n",
    "# 训练模型\n",
    "model.fit(x_train,y_train,batch_size=32,epochs=10)\n",
    "\n",
    "# 评估模型\n",
    "loss,accuracy = model.evaluate(x_test,y_test)\n",
    "\n",
    "print('\\ntest loss',loss)\n",
    "print('accuracy',accuracy)"
   ]
  },
  {
   "cell_type": "code",
   "execution_count": null,
   "metadata": {},
   "outputs": [],
   "source": []
  }
 ],
 "metadata": {
  "kernelspec": {
   "display_name": "Python 3",
   "language": "python",
   "name": "python3"
  },
  "language_info": {
   "codemirror_mode": {
    "name": "ipython",
    "version": 3
   },
   "file_extension": ".py",
   "mimetype": "text/x-python",
   "name": "python",
   "nbconvert_exporter": "python",
   "pygments_lexer": "ipython3",
   "version": "3.6.2"
  }
 },
 "nbformat": 4,
 "nbformat_minor": 2
}
