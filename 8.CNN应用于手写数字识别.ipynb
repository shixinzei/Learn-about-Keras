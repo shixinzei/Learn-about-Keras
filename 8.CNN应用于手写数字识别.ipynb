{
 "cells": [
  {
   "cell_type": "code",
   "execution_count": 1,
   "metadata": {},
   "outputs": [
    {
     "name": "stderr",
     "output_type": "stream",
     "text": [
      "Using TensorFlow backend.\n"
     ]
    }
   ],
   "source": [
    "import numpy as np\n",
    "from keras.datasets import mnist\n",
    "from keras.utils import np_utils\n",
    "from keras.models import Sequential\n",
    "from keras.layers import Dense,Dropout,Convolution2D,MaxPooling2D,Flatten\n",
    "from keras.optimizers import Adam"
   ]
  },
  {
   "cell_type": "code",
   "execution_count": 2,
   "metadata": {},
   "outputs": [
    {
     "name": "stdout",
     "output_type": "stream",
     "text": [
      "WARNING:tensorflow:From C:\\ProgramData\\Anaconda3\\envs\\tensorflow36\\lib\\site-packages\\keras\\backend\\tensorflow_backend.py:4070: The name tf.nn.max_pool is deprecated. Please use tf.nn.max_pool2d instead.\n",
      "\n",
      "WARNING:tensorflow:From C:\\ProgramData\\Anaconda3\\envs\\tensorflow36\\lib\\site-packages\\keras\\backend\\tensorflow_backend.py:422: The name tf.global_variables is deprecated. Please use tf.compat.v1.global_variables instead.\n",
      "\n",
      "Epoch 1/10\n",
      "60000/60000 [==============================] - 180s 3ms/step - loss: 0.3266 - accuracy: 0.9059\n",
      "Epoch 2/10\n",
      "60000/60000 [==============================] - 163s 3ms/step - loss: 0.0900 - accuracy: 0.97332s - loss: 0.0903 - accuracy: 0.97 - ETA: 1s - loss: 0\n",
      "Epoch 3/10\n",
      "60000/60000 [==============================] - 163s 3ms/step - loss: 0.0641 - accuracy: 0.9802\n",
      "Epoch 4/10\n",
      "60000/60000 [==============================] - 231s 4ms/step - loss: 0.0507 - accuracy: 0.9843\n",
      "Epoch 5/10\n",
      "60000/60000 [==============================] - 192s 3ms/step - loss: 0.0426 - accuracy: 0.9870\n",
      "Epoch 6/10\n",
      "60000/60000 [==============================] - 180s 3ms/step - loss: 0.0351 - accuracy: 0.9891\n",
      "Epoch 7/10\n",
      "60000/60000 [==============================] - 182s 3ms/step - loss: 0.0310 - accuracy: 0.9902\n",
      "Epoch 8/10\n",
      "60000/60000 [==============================] - 185s 3ms/step - loss: 0.0271 - accuracy: 0.99132s - loss: 0.0270 - accuracy: 0. - ETA: 2s - loss: 0.0270 - accu - ETA: 1s - loss: 0.0270 - accu\n",
      "Epoch 9/10\n",
      "60000/60000 [==============================] - 182s 3ms/step - loss: 0.0236 - accuracy: 0.9923\n",
      "Epoch 10/10\n",
      "60000/60000 [==============================] - 181s 3ms/step - loss: 0.0208 - accuracy: 0.9933\n",
      "10000/10000 [==============================] - 8s 828us/step\n",
      "test loss 0.02205215310564381\n",
      "test accuracy 0.9922999739646912\n"
     ]
    }
   ],
   "source": [
    "# 载入数据\n",
    "(x_train,y_train),(x_test,y_test) = mnist.load_data()\n",
    "# (60000,28,28)->(60000,28,28,1)\n",
    "x_train = x_train.reshape(-1,28,28,1)/255.0\n",
    "x_test = x_test.reshape(-1,28,28,1)/255.0\n",
    "# 换one hot格式 独热编码\n",
    "y_train = np_utils.to_categorical(y_train,num_classes=10)\n",
    "y_test = np_utils.to_categorical(y_test,num_classes=10)\n",
    "\n",
    "# 定义顺序模型\n",
    "model = Sequential()\n",
    "\n",
    "# 第一个卷积层\n",
    "# input_shape 输入平面\n",
    "# filters 卷积核/滤波器个数\n",
    "# kernel_size 卷积窗口大小\n",
    "# strides 步长\n",
    "# padding padding方式 same/valid\n",
    "# activation 激活函数\n",
    "model.add(Convolution2D(\n",
    "    input_shape = (28,28,1),\n",
    "    filters = 32, # 卷积核 滤波器\n",
    "    kernel_size = 5,\n",
    "    strides = 1,\n",
    "    padding = 'same', # padding:same 和上一层平面大小一样\n",
    "    activation = 'relu' # 激活函数\n",
    "))\n",
    "\n",
    "# 第一个池化层 14*14\n",
    "model.add(MaxPooling2D(\n",
    "    pool_size = 2,\n",
    "    strides = 2,\n",
    "    padding = 'same',\n",
    "))\n",
    "\n",
    "# 第二个卷积层\n",
    "model.add(Convolution2D(64,5,strides=1,padding='same',activation = 'relu'))\n",
    "\n",
    "# 第二个池化层\n",
    "model.add(MaxPooling2D(2,2,'same'))\n",
    "\n",
    "# 把第二个池化层的输出扁平化为1维\n",
    "model.add(Flatten())\n",
    "\n",
    "# 第一个全连接层\n",
    "model.add(Dense(1024,activation = 'relu'))\n",
    "\n",
    "# Dropout\n",
    "model.add(Dropout(0.5))\n",
    "\n",
    "# 第二个全连接层\n",
    "model.add(Dense(10,activation='softmax'))\n",
    "\n",
    "# 定义优化器\n",
    "adam = Adam(lr=1e-4)\n",
    "\n",
    "# 定义优化器，loss function，训练过程中计算准确率\n",
    "model.compile(optimizer=adam,loss='categorical_crossentropy',metrics=['accuracy'])\n",
    "\n",
    "# 训练模型\n",
    "model.fit(x_train,y_train,batch_size=64,epochs=10)\n",
    "\n",
    "# 评估模型\n",
    "loss,accuracy = model.evaluate(x_test,y_test)\n",
    "\n",
    "print('test loss',loss)\n",
    "print('test accuracy',accuracy)"
   ]
  },
  {
   "cell_type": "code",
   "execution_count": null,
   "metadata": {
    "collapsed": true
   },
   "outputs": [],
   "source": []
  }
 ],
 "metadata": {
  "anaconda-cloud": {},
  "kernelspec": {
   "display_name": "Python 3",
   "language": "python",
   "name": "python3"
  },
  "language_info": {
   "codemirror_mode": {
    "name": "ipython",
    "version": 3
   },
   "file_extension": ".py",
   "mimetype": "text/x-python",
   "name": "python",
   "nbconvert_exporter": "python",
   "pygments_lexer": "ipython3",
   "version": "3.6.2"
  }
 },
 "nbformat": 4,
 "nbformat_minor": 1
}
