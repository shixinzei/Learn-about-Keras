{
 "cells": [
  {
   "cell_type": "code",
   "execution_count": 3,
   "metadata": {},
   "outputs": [],
   "source": [
    "import numpy as np\n",
    "from keras.datasets import mnist\n",
    "from keras.utils import np_utils\n",
    "from keras.models import Sequential\n",
    "from keras.layers import Dense,Dropout\n",
    "from keras.optimizers import SGD\n",
    "from keras.regularizers import l2"
   ]
  },
  {
   "cell_type": "code",
   "execution_count": 4,
   "metadata": {},
   "outputs": [
    {
     "name": "stdout",
     "output_type": "stream",
     "text": [
      "x_shape: (60000, 28, 28)\n",
      "y_shape: (60000,)\n",
      "WARNING:tensorflow:From C:\\ProgramData\\Anaconda3\\envs\\tensorflow36\\lib\\site-packages\\keras\\backend\\tensorflow_backend.py:422: The name tf.global_variables is deprecated. Please use tf.compat.v1.global_variables instead.\n",
      "\n",
      "Epoch 1/10\n",
      "60000/60000 [==============================] - 10s 164us/step - loss: 0.1597 - accuracy: 0.7268\n",
      "Epoch 2/10\n",
      "60000/60000 [==============================] - 9s 154us/step - loss: 0.1004 - accuracy: 0.8967\n",
      "Epoch 3/10\n",
      "60000/60000 [==============================] - 9s 146us/step - loss: 0.0745 - accuracy: 0.9061\n",
      "Epoch 4/10\n",
      "60000/60000 [==============================] - 9s 147us/step - loss: 0.0584 - accuracy: 0.9108\n",
      "Epoch 5/10\n",
      "60000/60000 [==============================] - 11s 182us/step - loss: 0.0483 - accuracy: 0.9136\n",
      "Epoch 6/10\n",
      "60000/60000 [==============================] - 8s 135us/step - loss: 0.0417 - accuracy: 0.9151\n",
      "Epoch 7/10\n",
      "60000/60000 [==============================] - 8s 139us/step - loss: 0.0376 - accuracy: 0.9165\n",
      "Epoch 8/10\n",
      "60000/60000 [==============================] - 9s 157us/step - loss: 0.0349 - accuracy: 0.9173\n",
      "Epoch 9/10\n",
      "60000/60000 [==============================] - 10s 164us/step - loss: 0.0331 - accuracy: 0.9183\n",
      "Epoch 10/10\n",
      "60000/60000 [==============================] - 11s 177us/step - loss: 0.0319 - accuracy: 0.9197\n",
      "10000/10000 [==============================] - 1s 87us/step\n",
      "\n",
      "test loss 0.03093475324511528\n",
      "test accuracy 0.9215999841690063\n",
      "60000/60000 [==============================] - 4s 61us/step\n",
      "\n",
      "train loss 0.03140640855034192\n",
      "train accuracy 0.9203166961669922\n"
     ]
    }
   ],
   "source": [
    "# 载入数据\n",
    "(x_train,y_train),(x_test,y_test) = mnist.load_data()\n",
    "\n",
    "# （60000,28,28）\n",
    "print('x_shape:',x_train.shape)\n",
    "# （60000）\n",
    "print('y_shape:',y_train.shape)\n",
    "\n",
    "# （60000,28,，28）->（60000，784）\n",
    "x_train = x_train.reshape(x_train.shape[0],-1)/255.0\n",
    "x_test = x_test.reshape(x_test.shape[0],-1)/255.0\n",
    "\n",
    "# 换one hot格式  独热编码\n",
    "y_train = np_utils.to_categorical(y_train,num_classes=10)\n",
    "y_test = np_utils.to_categorical(y_test,num_classes=10)\n",
    "\n",
    "# 创建模型 \n",
    "model = Sequential([\n",
    "        # 隐藏层1 784-200\n",
    "        Dense(units=200,input_dim=784,bias_initializer='one',activation='tanh',kernel_regularizer=l2(0.0003)),\n",
    "        # 隐藏层2 200-100\n",
    "        Dense(units=100,bias_initializer='one',activation='tanh',kernel_regularizer=l2(0.0003)),\n",
    "        # 输出层 100-10\n",
    "        Dense(units=10,bias_initializer='one',activation='softmax',kernel_regularizer=l2(0.0003))\n",
    "    ])\n",
    "\n",
    "# 定义优化器\n",
    "sgd = SGD(lr=0.2)\n",
    "\n",
    "# 定义优化器,loss function ,训练过程中计算准确率\n",
    "model.compile(\n",
    "    optimizer = sgd,\n",
    "    loss = 'mse',\n",
    "    metrics=['accuracy']\n",
    ")\n",
    "\n",
    "# 训练模型\n",
    "model.fit(x_train,y_train,batch_size=32,epochs=10)\n",
    "\n",
    "# 评估模型\n",
    "loss,accuracy = model.evaluate(x_test,y_test)\n",
    "print('\\ntest loss',loss)\n",
    "print('test accuracy',accuracy)\n",
    "\n",
    "loss,accuracy = model.evaluate(x_train,y_train)\n",
    "\n",
    "print('\\ntrain loss',loss)\n",
    "print('train accuracy',accuracy)"
   ]
  },
  {
   "cell_type": "code",
   "execution_count": null,
   "metadata": {},
   "outputs": [],
   "source": []
  }
 ],
 "metadata": {
  "kernelspec": {
   "display_name": "Python 3",
   "language": "python",
   "name": "python3"
  },
  "language_info": {
   "codemirror_mode": {
    "name": "ipython",
    "version": 3
   },
   "file_extension": ".py",
   "mimetype": "text/x-python",
   "name": "python",
   "nbconvert_exporter": "python",
   "pygments_lexer": "ipython3",
   "version": "3.6.2"
  }
 },
 "nbformat": 4,
 "nbformat_minor": 2
}
